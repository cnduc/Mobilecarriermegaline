{
 "cells": [
  {
   "cell_type": "markdown",
   "metadata": {},
   "source": [
    "## <font color=\"green\"><b>Develop a model that would analyze subscribers' behavior and recommend one of Megaline's newer plans: Smart or Ultra.</b></font>"
   ]
  },
  {
   "cell_type": "markdown",
   "metadata": {},
   "source": [
    "<b>Mobile carrier Megaline has found out that many of their subscribers use legacy plans. They want to develop a model that would analyze subscribers' behavior and recommend one of Megaline's newer plans: Smart or Ultra.\n",
    "You have access to behavior data about subscribers who have already switched to the new plans (from the project for the Statistical Data Analysis course). For this classification task, you need to develop a model that will pick the right plan. Since you’ve already performed the data preprocessing step, you can move straight to creating the model.\n",
    "Develop a model with the highest possible accuracy. In this project, the threshold for accuracy is 0.75. Check the accuracy using the test dataset.</b>"
   ]
  },
  {
   "cell_type": "markdown",
   "metadata": {},
   "source": [
    "### <font color=\"green\"><b>Importing all libraries needed for this project.</b></font>"
   ]
  },
  {
   "cell_type": "code",
   "execution_count": 1,
   "metadata": {},
   "outputs": [],
   "source": [
    "import pandas as pd\n",
    "from sklearn.model_selection import train_test_split\n",
    "from sklearn.tree import DecisionTreeClassifier\n",
    "from sklearn.ensemble import RandomForestClassifier\n",
    "from sklearn.linear_model import LogisticRegression\n",
    "from sklearn.model_selection import train_test_split\n",
    "from sklearn.metrics import accuracy_score\n",
    "import joblib"
   ]
  },
  {
   "cell_type": "markdown",
   "metadata": {},
   "source": [
    "### <font color=\"green\"><b>1. Open and look through the data file. Path to the file:datasets/users_behavior.csv</b></font>"
   ]
  },
  {
   "cell_type": "code",
   "execution_count": 2,
   "metadata": {},
   "outputs": [
    {
     "name": "stdout",
     "output_type": "stream",
     "text": [
      "   calls  minutes  messages   mb_used  is_ultra\n",
      "0   40.0   311.90      83.0  19915.42         0\n",
      "1   85.0   516.75      56.0  22696.96         0\n",
      "2   77.0   467.66      86.0  21060.45         0\n",
      "3  106.0   745.53      81.0   8437.39         1\n",
      "4   66.0   418.74       1.0  14502.75         0\n",
      "5   58.0   344.56      21.0  15823.37         0\n",
      "6   57.0   431.64      20.0   3738.90         1\n",
      "7   15.0   132.40       6.0  21911.60         0\n",
      "8    7.0    43.39       3.0   2538.67         1\n",
      "9   90.0   665.41      38.0  17358.61         0\n"
     ]
    }
   ],
   "source": [
    "data = pd.read_csv('/datasets/users_behavior.csv')\n",
    "print(data.head(10))"
   ]
  },
  {
   "cell_type": "markdown",
   "metadata": {},
   "source": [
    "### <font color=\"green\"><b>Checking the datatypes</b></font>"
   ]
  },
  {
   "cell_type": "code",
   "execution_count": 3,
   "metadata": {},
   "outputs": [
    {
     "data": {
      "text/plain": [
       "calls       float64\n",
       "minutes     float64\n",
       "messages    float64\n",
       "mb_used     float64\n",
       "is_ultra      int64\n",
       "dtype: object"
      ]
     },
     "execution_count": 3,
     "metadata": {},
     "output_type": "execute_result"
    }
   ],
   "source": [
    "data.dtypes"
   ]
  },
  {
   "cell_type": "markdown",
   "metadata": {},
   "source": [
    "#### Data types of calls, messages cannot be float, is_ultra is having bool values. So changing calls, messages to int datatype and is_ultra to bool datatype."
   ]
  },
  {
   "cell_type": "code",
   "execution_count": 4,
   "metadata": {},
   "outputs": [],
   "source": [
    "data['calls'] = data['calls'].astype(int)\n",
    "data['messages'] = data['messages'].astype(int)\n",
    "data['is_ultra'] = data['is_ultra'].astype(bool)"
   ]
  },
  {
   "cell_type": "code",
   "execution_count": 5,
   "metadata": {},
   "outputs": [
    {
     "name": "stdout",
     "output_type": "stream",
     "text": [
      "<class 'pandas.core.frame.DataFrame'>\n",
      "RangeIndex: 3214 entries, 0 to 3213\n",
      "Data columns (total 5 columns):\n",
      "calls       3214 non-null int64\n",
      "minutes     3214 non-null float64\n",
      "messages    3214 non-null int64\n",
      "mb_used     3214 non-null float64\n",
      "is_ultra    3214 non-null bool\n",
      "dtypes: bool(1), float64(2), int64(2)\n",
      "memory usage: 103.7 KB\n"
     ]
    }
   ],
   "source": [
    "data.info()"
   ]
  },
  {
   "cell_type": "markdown",
   "metadata": {},
   "source": [
    "### <font color=\"green\"><b>Checking Missing Values</b></font>"
   ]
  },
  {
   "cell_type": "code",
   "execution_count": 6,
   "metadata": {},
   "outputs": [
    {
     "data": {
      "text/plain": [
       "calls       0\n",
       "minutes     0\n",
       "messages    0\n",
       "mb_used     0\n",
       "is_ultra    0\n",
       "dtype: int64"
      ]
     },
     "execution_count": 6,
     "metadata": {},
     "output_type": "execute_result"
    }
   ],
   "source": [
    "data.isnull().sum()"
   ]
  },
  {
   "cell_type": "markdown",
   "metadata": {},
   "source": [
    "#### No missing values in the dataset."
   ]
  },
  {
   "cell_type": "markdown",
   "metadata": {},
   "source": [
    "## <font color=\"green\"><b>2. Split the source data into a training set, a validation set, and a test set.</b></font>"
   ]
  },
  {
   "cell_type": "code",
   "execution_count": 7,
   "metadata": {},
   "outputs": [],
   "source": [
    "features=data.drop(['is_ultra'], axis=1)\n",
    "targets=data['is_ultra']"
   ]
  },
  {
   "cell_type": "code",
   "execution_count": 8,
   "metadata": {},
   "outputs": [],
   "source": [
    "## splitting data into train and test set(75%:25%)\n",
    "split_features, test_features, split_targets, test_targets = train_test_split(\n",
    "    features, targets, test_size=0.25, shuffle=True, random_state=12345)\n"
   ]
  },
  {
   "cell_type": "code",
   "execution_count": 9,
   "metadata": {},
   "outputs": [],
   "source": [
    "## splitting train set again into train and validation set(75%:25%)\n",
    "train_features, valid_features, train_targets, valid_targets = train_test_split(\n",
    "    split_features, split_targets, test_size=0.25, shuffle=True, random_state=12345)\n"
   ]
  },
  {
   "cell_type": "code",
   "execution_count": 10,
   "metadata": {},
   "outputs": [
    {
     "name": "stdout",
     "output_type": "stream",
     "text": [
      "(1807, 4)\n",
      "(1807,)\n",
      "(603, 4)\n",
      "(603,)\n",
      "(804,)\n",
      "(804, 4)\n"
     ]
    }
   ],
   "source": [
    "print(train_features.shape)\n",
    "print(train_targets.shape)\n",
    "print(valid_features.shape)\n",
    "print(valid_targets.shape)\n",
    "print(test_targets.shape)\n",
    "print(test_features.shape)"
   ]
  },
  {
   "cell_type": "markdown",
   "metadata": {},
   "source": [
    "## <font color=\"green\"><b>3. Investigate the quality of different models by changing hyperparameters. Briefly describe the findings of the study.</b></font>"
   ]
  },
  {
   "cell_type": "markdown",
   "metadata": {},
   "source": [
    "## <font color=\"green\"><b>DecisionTreeClassifier</b></font>"
   ]
  },
  {
   "cell_type": "code",
   "execution_count": 11,
   "metadata": {},
   "outputs": [
    {
     "name": "stdout",
     "output_type": "stream",
     "text": [
      "Accuracy Score for depth 1 : 0.7495854063018242\n",
      "Accuracy Score for depth 4 : 0.7893864013266998\n",
      "Accuracy Score for depth 7 : 0.7827529021558872\n",
      "Accuracy Score for depth 10 : 0.7844112769485904\n",
      "Accuracy Score for depth 13 : 0.7728026533996684\n",
      "Accuracy Score for depth 16 : 0.7396351575456053\n",
      "Accuracy Score for depth 19 : 0.7280265339966833\n",
      "Accuracy Score for depth 22 : 0.736318407960199\n",
      "Accuracy Score for depth 25 : 0.7313432835820896\n",
      "Accuracy Score for depth 28 : 0.7429519071310116\n"
     ]
    }
   ],
   "source": [
    "for depth in range(1,31, 3):\n",
    "    decisionTreeClassifier=DecisionTreeClassifier(random_state=12345, max_depth=depth)\n",
    "    decisionTreeClassifier.fit(train_features, train_targets)\n",
    "    print(\"Accuracy Score for depth\",depth,\":\",decisionTreeClassifier.score(valid_features, valid_targets))"
   ]
  },
  {
   "cell_type": "markdown",
   "metadata": {},
   "source": [
    "#### Accuracy range is 72 -78"
   ]
  },
  {
   "cell_type": "markdown",
   "metadata": {},
   "source": [
    "## <font color=\"green\"><b>RandomForestClassifier</b></font>"
   ]
  },
  {
   "cell_type": "code",
   "execution_count": 12,
   "metadata": {},
   "outputs": [
    {
     "name": "stdout",
     "output_type": "stream",
     "text": [
      "Accuracy Score for depth 5 :\n",
      "Accuracy Score for estimators 1 : 0.7943615257048093\n",
      "Accuracy Score for depth 10 :\n",
      "Accuracy Score for estimators 1 : 0.7711442786069652\n",
      "Accuracy Score for depth 15 :\n",
      "Accuracy Score for estimators 1 : 0.7678275290215588\n",
      "Accuracy Score for depth 20 :\n",
      "Accuracy Score for estimators 1 : 0.736318407960199\n",
      "Accuracy Score for depth 25 :\n",
      "Accuracy Score for estimators 1 : 0.736318407960199\n",
      "Accuracy Score for depth 5 :\n",
      "Accuracy Score for estimators 3 : 0.7860696517412935\n",
      "Accuracy Score for depth 10 :\n",
      "Accuracy Score for estimators 3 : 0.7976782752902156\n",
      "Accuracy Score for depth 15 :\n",
      "Accuracy Score for estimators 3 : 0.802653399668325\n",
      "Accuracy Score for depth 20 :\n",
      "Accuracy Score for estimators 3 : 0.75787728026534\n",
      "Accuracy Score for depth 25 :\n",
      "Accuracy Score for estimators 3 : 0.7645107794361525\n",
      "Accuracy Score for depth 5 :\n",
      "Accuracy Score for estimators 5 : 0.802653399668325\n",
      "Accuracy Score for depth 10 :\n",
      "Accuracy Score for estimators 5 : 0.7910447761194029\n",
      "Accuracy Score for depth 15 :\n",
      "Accuracy Score for estimators 5 : 0.7910447761194029\n",
      "Accuracy Score for depth 20 :\n",
      "Accuracy Score for estimators 5 : 0.7711442786069652\n",
      "Accuracy Score for depth 25 :\n",
      "Accuracy Score for estimators 5 : 0.7893864013266998\n",
      "Accuracy Score for depth 5 :\n",
      "Accuracy Score for estimators 7 : 0.8076285240464345\n",
      "Accuracy Score for depth 10 :\n",
      "Accuracy Score for estimators 7 : 0.8076285240464345\n",
      "Accuracy Score for depth 15 :\n",
      "Accuracy Score for estimators 7 : 0.8009950248756219\n",
      "Accuracy Score for depth 20 :\n",
      "Accuracy Score for estimators 7 : 0.7860696517412935\n",
      "Accuracy Score for depth 25 :\n",
      "Accuracy Score for estimators 7 : 0.8076285240464345\n",
      "Accuracy Score for depth 5 :\n",
      "Accuracy Score for estimators 9 : 0.8092868988391376\n",
      "Accuracy Score for depth 10 :\n",
      "Accuracy Score for estimators 9 : 0.8109452736318408\n",
      "Accuracy Score for depth 15 :\n",
      "Accuracy Score for estimators 9 : 0.8059701492537313\n",
      "Accuracy Score for depth 20 :\n",
      "Accuracy Score for estimators 9 : 0.7860696517412935\n",
      "Accuracy Score for depth 25 :\n",
      "Accuracy Score for estimators 9 : 0.8009950248756219\n",
      "Accuracy Score for depth 5 :\n",
      "Accuracy Score for estimators 11 : 0.8043117744610282\n",
      "Accuracy Score for depth 10 :\n",
      "Accuracy Score for estimators 11 : 0.8092868988391376\n",
      "Accuracy Score for depth 15 :\n",
      "Accuracy Score for estimators 11 : 0.8076285240464345\n",
      "Accuracy Score for depth 20 :\n",
      "Accuracy Score for estimators 11 : 0.7976782752902156\n",
      "Accuracy Score for depth 25 :\n",
      "Accuracy Score for estimators 11 : 0.8043117744610282\n",
      "Accuracy Score for depth 5 :\n",
      "Accuracy Score for estimators 13 : 0.8059701492537313\n",
      "Accuracy Score for depth 10 :\n",
      "Accuracy Score for estimators 13 : 0.8059701492537313\n",
      "Accuracy Score for depth 15 :\n",
      "Accuracy Score for estimators 13 : 0.802653399668325\n",
      "Accuracy Score for depth 20 :\n",
      "Accuracy Score for estimators 13 : 0.8109452736318408\n",
      "Accuracy Score for depth 25 :\n",
      "Accuracy Score for estimators 13 : 0.8059701492537313\n",
      "Accuracy Score for depth 5 :\n",
      "Accuracy Score for estimators 15 : 0.8059701492537313\n",
      "Accuracy Score for depth 10 :\n",
      "Accuracy Score for estimators 15 : 0.8192371475953566\n",
      "Accuracy Score for depth 15 :\n",
      "Accuracy Score for estimators 15 : 0.8092868988391376\n",
      "Accuracy Score for depth 20 :\n",
      "Accuracy Score for estimators 15 : 0.8092868988391376\n",
      "Accuracy Score for depth 25 :\n",
      "Accuracy Score for estimators 15 : 0.8109452736318408\n",
      "Accuracy Score for depth 5 :\n",
      "Accuracy Score for estimators 17 : 0.8092868988391376\n",
      "Accuracy Score for depth 10 :\n",
      "Accuracy Score for estimators 17 : 0.8225538971807629\n",
      "Accuracy Score for depth 15 :\n",
      "Accuracy Score for estimators 17 : 0.8175787728026535\n",
      "Accuracy Score for depth 20 :\n",
      "Accuracy Score for estimators 17 : 0.8159203980099502\n",
      "Accuracy Score for depth 25 :\n",
      "Accuracy Score for estimators 17 : 0.8126036484245439\n",
      "Accuracy Score for depth 5 :\n",
      "Accuracy Score for estimators 19 : 0.8092868988391376\n",
      "Accuracy Score for depth 10 :\n",
      "Accuracy Score for estimators 19 : 0.8275290215588723\n",
      "Accuracy Score for depth 15 :\n",
      "Accuracy Score for estimators 19 : 0.8159203980099502\n",
      "Accuracy Score for depth 20 :\n",
      "Accuracy Score for estimators 19 : 0.8126036484245439\n",
      "Accuracy Score for depth 25 :\n",
      "Accuracy Score for estimators 19 : 0.814262023217247\n",
      "Accuracy Score for depth 5 :\n",
      "Accuracy Score for estimators 21 : 0.8092868988391376\n",
      "Accuracy Score for depth 10 :\n",
      "Accuracy Score for estimators 21 : 0.8275290215588723\n",
      "Accuracy Score for depth 15 :\n",
      "Accuracy Score for estimators 21 : 0.8159203980099502\n",
      "Accuracy Score for depth 20 :\n",
      "Accuracy Score for estimators 21 : 0.8159203980099502\n",
      "Accuracy Score for depth 25 :\n",
      "Accuracy Score for estimators 21 : 0.8175787728026535\n",
      "Accuracy Score for depth 5 :\n",
      "Accuracy Score for estimators 23 : 0.8092868988391376\n",
      "Accuracy Score for depth 10 :\n",
      "Accuracy Score for estimators 23 : 0.8308457711442786\n",
      "Accuracy Score for depth 15 :\n",
      "Accuracy Score for estimators 23 : 0.8208955223880597\n",
      "Accuracy Score for depth 20 :\n",
      "Accuracy Score for estimators 23 : 0.814262023217247\n",
      "Accuracy Score for depth 25 :\n",
      "Accuracy Score for estimators 23 : 0.8126036484245439\n",
      "Accuracy Score for depth 5 :\n",
      "Accuracy Score for estimators 25 : 0.8076285240464345\n",
      "Accuracy Score for depth 10 :\n",
      "Accuracy Score for estimators 25 : 0.8325041459369817\n",
      "Accuracy Score for depth 15 :\n",
      "Accuracy Score for estimators 25 : 0.8192371475953566\n",
      "Accuracy Score for depth 20 :\n",
      "Accuracy Score for estimators 25 : 0.8192371475953566\n",
      "Accuracy Score for depth 25 :\n",
      "Accuracy Score for estimators 25 : 0.8126036484245439\n",
      "Accuracy Score for depth 5 :\n",
      "Accuracy Score for estimators 27 : 0.8076285240464345\n",
      "Accuracy Score for depth 10 :\n",
      "Accuracy Score for estimators 27 : 0.8291873963515755\n",
      "Accuracy Score for depth 15 :\n",
      "Accuracy Score for estimators 27 : 0.8175787728026535\n",
      "Accuracy Score for depth 20 :\n",
      "Accuracy Score for estimators 27 : 0.814262023217247\n",
      "Accuracy Score for depth 25 :\n",
      "Accuracy Score for estimators 27 : 0.8092868988391376\n",
      "Accuracy Score for depth 5 :\n",
      "Accuracy Score for estimators 29 : 0.8076285240464345\n",
      "Accuracy Score for depth 10 :\n",
      "Accuracy Score for estimators 29 : 0.8291873963515755\n",
      "Accuracy Score for depth 15 :\n",
      "Accuracy Score for estimators 29 : 0.8159203980099502\n",
      "Accuracy Score for depth 20 :\n",
      "Accuracy Score for estimators 29 : 0.814262023217247\n",
      "Accuracy Score for depth 25 :\n",
      "Accuracy Score for estimators 29 : 0.8126036484245439\n",
      "Accuracy Score for depth 5 :\n",
      "Accuracy Score for estimators 31 : 0.8059701492537313\n",
      "Accuracy Score for depth 10 :\n",
      "Accuracy Score for estimators 31 : 0.8325041459369817\n",
      "Accuracy Score for depth 15 :\n",
      "Accuracy Score for estimators 31 : 0.814262023217247\n",
      "Accuracy Score for depth 20 :\n",
      "Accuracy Score for estimators 31 : 0.8175787728026535\n",
      "Accuracy Score for depth 25 :\n",
      "Accuracy Score for estimators 31 : 0.8192371475953566\n",
      "Accuracy Score for depth 5 :\n",
      "Accuracy Score for estimators 33 : 0.8076285240464345\n",
      "Accuracy Score for depth 10 :\n",
      "Accuracy Score for estimators 33 : 0.8308457711442786\n",
      "Accuracy Score for depth 15 :\n",
      "Accuracy Score for estimators 33 : 0.814262023217247\n",
      "Accuracy Score for depth 20 :\n",
      "Accuracy Score for estimators 33 : 0.8208955223880597\n",
      "Accuracy Score for depth 25 :\n",
      "Accuracy Score for estimators 33 : 0.8159203980099502\n",
      "Accuracy Score for depth 5 :\n",
      "Accuracy Score for estimators 35 : 0.8076285240464345\n",
      "Accuracy Score for depth 10 :\n",
      "Accuracy Score for estimators 35 : 0.8258706467661692\n",
      "Accuracy Score for depth 15 :\n",
      "Accuracy Score for estimators 35 : 0.8175787728026535\n",
      "Accuracy Score for depth 20 :\n",
      "Accuracy Score for estimators 35 : 0.8225538971807629\n",
      "Accuracy Score for depth 25 :\n",
      "Accuracy Score for estimators 35 : 0.8126036484245439\n",
      "Accuracy Score for depth 5 :\n",
      "Accuracy Score for estimators 37 : 0.8059701492537313\n",
      "Accuracy Score for depth 10 :\n",
      "Accuracy Score for estimators 37 : 0.824212271973466\n",
      "Accuracy Score for depth 15 :\n",
      "Accuracy Score for estimators 37 : 0.8258706467661692\n",
      "Accuracy Score for depth 20 :\n",
      "Accuracy Score for estimators 37 : 0.8208955223880597\n",
      "Accuracy Score for depth 25 :\n",
      "Accuracy Score for estimators 37 : 0.814262023217247\n",
      "Accuracy Score for depth 5 :\n",
      "Accuracy Score for estimators 39 : 0.8076285240464345\n",
      "Accuracy Score for depth 10 :\n",
      "Accuracy Score for estimators 39 : 0.8291873963515755\n",
      "Accuracy Score for depth 15 :\n",
      "Accuracy Score for estimators 39 : 0.824212271973466\n",
      "Accuracy Score for depth 20 :\n",
      "Accuracy Score for estimators 39 : 0.8159203980099502\n",
      "Accuracy Score for depth 25 :\n",
      "Accuracy Score for estimators 39 : 0.8126036484245439\n",
      "Accuracy Score for depth 5 :\n",
      "Accuracy Score for estimators 41 : 0.8092868988391376\n",
      "Accuracy Score for depth 10 :\n",
      "Accuracy Score for estimators 41 : 0.8275290215588723\n",
      "Accuracy Score for depth 15 :\n",
      "Accuracy Score for estimators 41 : 0.824212271973466\n",
      "Accuracy Score for depth 20 :\n",
      "Accuracy Score for estimators 41 : 0.8159203980099502\n",
      "Accuracy Score for depth 25 :\n",
      "Accuracy Score for estimators 41 : 0.814262023217247\n",
      "Accuracy Score for depth 5 :\n",
      "Accuracy Score for estimators 43 : 0.8126036484245439\n",
      "Accuracy Score for depth 10 :\n",
      "Accuracy Score for estimators 43 : 0.8258706467661692\n",
      "Accuracy Score for depth 15 :\n",
      "Accuracy Score for estimators 43 : 0.8225538971807629\n",
      "Accuracy Score for depth 20 :\n",
      "Accuracy Score for estimators 43 : 0.8175787728026535\n",
      "Accuracy Score for depth 25 :\n",
      "Accuracy Score for estimators 43 : 0.8126036484245439\n",
      "Accuracy Score for depth 5 :\n",
      "Accuracy Score for estimators 45 : 0.814262023217247\n",
      "Accuracy Score for depth 10 :\n",
      "Accuracy Score for estimators 45 : 0.8275290215588723\n",
      "Accuracy Score for depth 15 :\n",
      "Accuracy Score for estimators 45 : 0.824212271973466\n",
      "Accuracy Score for depth 20 :\n",
      "Accuracy Score for estimators 45 : 0.8175787728026535\n",
      "Accuracy Score for depth 25 :\n",
      "Accuracy Score for estimators 45 : 0.8126036484245439\n",
      "Accuracy Score for depth 5 :\n",
      "Accuracy Score for estimators 47 : 0.8109452736318408\n",
      "Accuracy Score for depth 10 :\n",
      "Accuracy Score for estimators 47 : 0.8291873963515755\n",
      "Accuracy Score for depth 15 :\n",
      "Accuracy Score for estimators 47 : 0.8225538971807629\n",
      "Accuracy Score for depth 20 :\n",
      "Accuracy Score for estimators 47 : 0.8159203980099502\n",
      "Accuracy Score for depth 25 :\n",
      "Accuracy Score for estimators 47 : 0.8126036484245439\n",
      "Accuracy Score for depth 5 :\n",
      "Accuracy Score for estimators 49 : 0.8126036484245439\n",
      "Accuracy Score for depth 10 :\n",
      "Accuracy Score for estimators 49 : 0.8275290215588723\n",
      "Accuracy Score for depth 15 :\n",
      "Accuracy Score for estimators 49 : 0.8258706467661692\n",
      "Accuracy Score for depth 20 :\n",
      "Accuracy Score for estimators 49 : 0.8192371475953566\n",
      "Accuracy Score for depth 25 :\n",
      "Accuracy Score for estimators 49 : 0.8126036484245439\n",
      "Accuracy Score for depth 5 :\n",
      "Accuracy Score for estimators 51 : 0.8175787728026535\n",
      "Accuracy Score for depth 10 :\n",
      "Accuracy Score for estimators 51 : 0.8258706467661692\n",
      "Accuracy Score for depth 15 :\n",
      "Accuracy Score for estimators 51 : 0.824212271973466\n",
      "Accuracy Score for depth 20 :\n",
      "Accuracy Score for estimators 51 : 0.8208955223880597\n",
      "Accuracy Score for depth 25 :\n",
      "Accuracy Score for estimators 51 : 0.814262023217247\n",
      "Accuracy Score for depth 5 :\n",
      "Accuracy Score for estimators 53 : 0.8126036484245439\n",
      "Accuracy Score for depth 10 :\n",
      "Accuracy Score for estimators 53 : 0.824212271973466\n",
      "Accuracy Score for depth 15 :\n",
      "Accuracy Score for estimators 53 : 0.8258706467661692\n",
      "Accuracy Score for depth 20 :\n",
      "Accuracy Score for estimators 53 : 0.8175787728026535\n",
      "Accuracy Score for depth 25 :\n",
      "Accuracy Score for estimators 53 : 0.8126036484245439\n",
      "Accuracy Score for depth 5 :\n",
      "Accuracy Score for estimators 55 : 0.8126036484245439\n",
      "Accuracy Score for depth 10 :\n",
      "Accuracy Score for estimators 55 : 0.824212271973466\n",
      "Accuracy Score for depth 15 :\n",
      "Accuracy Score for estimators 55 : 0.8275290215588723\n",
      "Accuracy Score for depth 20 :\n",
      "Accuracy Score for estimators 55 : 0.8175787728026535\n",
      "Accuracy Score for depth 25 :\n",
      "Accuracy Score for estimators 55 : 0.8126036484245439\n"
     ]
    }
   ],
   "source": [
    "for estimators in range(1,56,2):\n",
    "    for depth in range(5, 30, 5):\n",
    "        randomForestClassifier=RandomForestClassifier(random_state=12345, max_depth=depth, n_estimators=estimators)\n",
    "        randomForestClassifier.fit(train_features, train_targets)\n",
    "        print(\"Accuracy Score for depth\", depth,\":\")\n",
    "        print(\"Accuracy Score for estimators\",estimators,\":\",randomForestClassifier.score(valid_features, valid_targets))\n",
    "        "
   ]
  },
  {
   "cell_type": "code",
   "execution_count": 22,
   "metadata": {},
   "outputs": [
    {
     "name": "stdout",
     "output_type": "stream",
     "text": [
      "Number of estimators: 1\n",
      "Accuracy Score for depth=5: 0.7943615257048093\n",
      "Accuracy Score for depth=10: 0.7711442786069652\n",
      "Accuracy Score for depth=15: 0.7678275290215588\n",
      "Accuracy Score for depth=20: 0.736318407960199\n",
      "Accuracy Score for depth=25: 0.736318407960199\n",
      "Number of estimators: 3\n",
      "Accuracy Score for depth=5: 0.7860696517412935\n",
      "Accuracy Score for depth=10: 0.7976782752902156\n",
      "Accuracy Score for depth=15: 0.802653399668325\n",
      "Accuracy Score for depth=20: 0.75787728026534\n",
      "Accuracy Score for depth=25: 0.7645107794361525\n",
      "Number of estimators: 5\n",
      "Accuracy Score for depth=5: 0.802653399668325\n",
      "Accuracy Score for depth=10: 0.7910447761194029\n",
      "Accuracy Score for depth=15: 0.7910447761194029\n",
      "Accuracy Score for depth=20: 0.7711442786069652\n",
      "Accuracy Score for depth=25: 0.7893864013266998\n",
      "Number of estimators: 7\n",
      "Accuracy Score for depth=5: 0.8076285240464345\n",
      "Accuracy Score for depth=10: 0.8076285240464345\n",
      "Accuracy Score for depth=15: 0.8009950248756219\n",
      "Accuracy Score for depth=20: 0.7860696517412935\n",
      "Accuracy Score for depth=25: 0.8076285240464345\n",
      "Number of estimators: 9\n",
      "Accuracy Score for depth=5: 0.8092868988391376\n",
      "Accuracy Score for depth=10: 0.8109452736318408\n",
      "Accuracy Score for depth=15: 0.8059701492537313\n",
      "Accuracy Score for depth=20: 0.7860696517412935\n",
      "Accuracy Score for depth=25: 0.8009950248756219\n",
      "Number of estimators: 11\n",
      "Accuracy Score for depth=5: 0.8043117744610282\n",
      "Accuracy Score for depth=10: 0.8092868988391376\n",
      "Accuracy Score for depth=15: 0.8076285240464345\n",
      "Accuracy Score for depth=20: 0.7976782752902156\n",
      "Accuracy Score for depth=25: 0.8043117744610282\n",
      "Number of estimators: 13\n",
      "Accuracy Score for depth=5: 0.8059701492537313\n",
      "Accuracy Score for depth=10: 0.8059701492537313\n",
      "Accuracy Score for depth=15: 0.802653399668325\n",
      "Accuracy Score for depth=20: 0.8109452736318408\n",
      "Accuracy Score for depth=25: 0.8059701492537313\n",
      "Number of estimators: 15\n",
      "Accuracy Score for depth=5: 0.8059701492537313\n",
      "Accuracy Score for depth=10: 0.8192371475953566\n",
      "Accuracy Score for depth=15: 0.8092868988391376\n",
      "Accuracy Score for depth=20: 0.8092868988391376\n",
      "Accuracy Score for depth=25: 0.8109452736318408\n",
      "Number of estimators: 17\n",
      "Accuracy Score for depth=5: 0.8092868988391376\n",
      "Accuracy Score for depth=10: 0.8225538971807629\n",
      "Accuracy Score for depth=15: 0.8175787728026535\n",
      "Accuracy Score for depth=20: 0.8159203980099502\n",
      "Accuracy Score for depth=25: 0.8126036484245439\n",
      "Number of estimators: 19\n",
      "Accuracy Score for depth=5: 0.8092868988391376\n",
      "Accuracy Score for depth=10: 0.8275290215588723\n",
      "Accuracy Score for depth=15: 0.8159203980099502\n",
      "Accuracy Score for depth=20: 0.8126036484245439\n",
      "Accuracy Score for depth=25: 0.814262023217247\n",
      "Number of estimators: 21\n",
      "Accuracy Score for depth=5: 0.8092868988391376\n",
      "Accuracy Score for depth=10: 0.8275290215588723\n",
      "Accuracy Score for depth=15: 0.8159203980099502\n",
      "Accuracy Score for depth=20: 0.8159203980099502\n",
      "Accuracy Score for depth=25: 0.8175787728026535\n",
      "Number of estimators: 23\n",
      "Accuracy Score for depth=5: 0.8092868988391376\n",
      "Accuracy Score for depth=10: 0.8308457711442786\n",
      "Accuracy Score for depth=15: 0.8208955223880597\n",
      "Accuracy Score for depth=20: 0.814262023217247\n",
      "Accuracy Score for depth=25: 0.8126036484245439\n",
      "Number of estimators: 25\n",
      "Accuracy Score for depth=5: 0.8076285240464345\n",
      "Accuracy Score for depth=10: 0.8325041459369817\n",
      "Accuracy Score for depth=15: 0.8192371475953566\n",
      "Accuracy Score for depth=20: 0.8192371475953566\n",
      "Accuracy Score for depth=25: 0.8126036484245439\n",
      "Number of estimators: 27\n",
      "Accuracy Score for depth=5: 0.8076285240464345\n",
      "Accuracy Score for depth=10: 0.8291873963515755\n",
      "Accuracy Score for depth=15: 0.8175787728026535\n",
      "Accuracy Score for depth=20: 0.814262023217247\n",
      "Accuracy Score for depth=25: 0.8092868988391376\n",
      "Number of estimators: 29\n",
      "Accuracy Score for depth=5: 0.8076285240464345\n",
      "Accuracy Score for depth=10: 0.8291873963515755\n",
      "Accuracy Score for depth=15: 0.8159203980099502\n",
      "Accuracy Score for depth=20: 0.814262023217247\n",
      "Accuracy Score for depth=25: 0.8126036484245439\n",
      "Number of estimators: 31\n",
      "Accuracy Score for depth=5: 0.8059701492537313\n",
      "Accuracy Score for depth=10: 0.8325041459369817\n",
      "Accuracy Score for depth=15: 0.814262023217247\n",
      "Accuracy Score for depth=20: 0.8175787728026535\n",
      "Accuracy Score for depth=25: 0.8192371475953566\n",
      "Number of estimators: 33\n",
      "Accuracy Score for depth=5: 0.8076285240464345\n",
      "Accuracy Score for depth=10: 0.8308457711442786\n",
      "Accuracy Score for depth=15: 0.814262023217247\n",
      "Accuracy Score for depth=20: 0.8208955223880597\n",
      "Accuracy Score for depth=25: 0.8159203980099502\n",
      "Number of estimators: 35\n",
      "Accuracy Score for depth=5: 0.8076285240464345\n",
      "Accuracy Score for depth=10: 0.8258706467661692\n",
      "Accuracy Score for depth=15: 0.8175787728026535\n",
      "Accuracy Score for depth=20: 0.8225538971807629\n",
      "Accuracy Score for depth=25: 0.8126036484245439\n",
      "Number of estimators: 37\n",
      "Accuracy Score for depth=5: 0.8059701492537313\n",
      "Accuracy Score for depth=10: 0.824212271973466\n",
      "Accuracy Score for depth=15: 0.8258706467661692\n",
      "Accuracy Score for depth=20: 0.8208955223880597\n",
      "Accuracy Score for depth=25: 0.814262023217247\n",
      "Number of estimators: 39\n",
      "Accuracy Score for depth=5: 0.8076285240464345\n",
      "Accuracy Score for depth=10: 0.8291873963515755\n",
      "Accuracy Score for depth=15: 0.824212271973466\n",
      "Accuracy Score for depth=20: 0.8159203980099502\n",
      "Accuracy Score for depth=25: 0.8126036484245439\n",
      "Number of estimators: 41\n",
      "Accuracy Score for depth=5: 0.8092868988391376\n",
      "Accuracy Score for depth=10: 0.8275290215588723\n",
      "Accuracy Score for depth=15: 0.824212271973466\n",
      "Accuracy Score for depth=20: 0.8159203980099502\n",
      "Accuracy Score for depth=25: 0.814262023217247\n",
      "Number of estimators: 43\n",
      "Accuracy Score for depth=5: 0.8126036484245439\n",
      "Accuracy Score for depth=10: 0.8258706467661692\n",
      "Accuracy Score for depth=15: 0.8225538971807629\n",
      "Accuracy Score for depth=20: 0.8175787728026535\n",
      "Accuracy Score for depth=25: 0.8126036484245439\n",
      "Number of estimators: 45\n",
      "Accuracy Score for depth=5: 0.814262023217247\n",
      "Accuracy Score for depth=10: 0.8275290215588723\n",
      "Accuracy Score for depth=15: 0.824212271973466\n",
      "Accuracy Score for depth=20: 0.8175787728026535\n",
      "Accuracy Score for depth=25: 0.8126036484245439\n",
      "Number of estimators: 47\n",
      "Accuracy Score for depth=5: 0.8109452736318408\n",
      "Accuracy Score for depth=10: 0.8291873963515755\n",
      "Accuracy Score for depth=15: 0.8225538971807629\n",
      "Accuracy Score for depth=20: 0.8159203980099502\n",
      "Accuracy Score for depth=25: 0.8126036484245439\n",
      "Number of estimators: 49\n",
      "Accuracy Score for depth=5: 0.8126036484245439\n",
      "Accuracy Score for depth=10: 0.8275290215588723\n",
      "Accuracy Score for depth=15: 0.8258706467661692\n",
      "Accuracy Score for depth=20: 0.8192371475953566\n",
      "Accuracy Score for depth=25: 0.8126036484245439\n",
      "Number of estimators: 51\n",
      "Accuracy Score for depth=5: 0.8175787728026535\n",
      "Accuracy Score for depth=10: 0.8258706467661692\n",
      "Accuracy Score for depth=15: 0.824212271973466\n",
      "Accuracy Score for depth=20: 0.8208955223880597\n",
      "Accuracy Score for depth=25: 0.814262023217247\n",
      "Number of estimators: 53\n",
      "Accuracy Score for depth=5: 0.8126036484245439\n",
      "Accuracy Score for depth=10: 0.824212271973466\n",
      "Accuracy Score for depth=15: 0.8258706467661692\n",
      "Accuracy Score for depth=20: 0.8175787728026535\n",
      "Accuracy Score for depth=25: 0.8126036484245439\n",
      "Number of estimators: 55\n",
      "Accuracy Score for depth=5: 0.8126036484245439\n",
      "Accuracy Score for depth=10: 0.824212271973466\n",
      "Accuracy Score for depth=15: 0.8275290215588723\n",
      "Accuracy Score for depth=20: 0.8175787728026535\n",
      "Accuracy Score for depth=25: 0.8126036484245439\n",
      "Best of the best: {'score': 0.8325041459369817, 'n_estimators': 25, 'depth': 10}\n"
     ]
    }
   ],
   "source": [
    "best_score_params = {\"score\": 0, \"n_estimators\": None, \"depth\": None}\n",
    "\n",
    "for estimators in range(1,56,2):\n",
    "    print(f\"Number of estimators: {estimators}\")\n",
    "    for depth in range(5, 30, 5):\n",
    "        randomForestClassifier=RandomForestClassifier(random_state=12345, max_depth=depth, n_estimators=estimators)\n",
    "        randomForestClassifier.fit(train_features, train_targets)\n",
    "        score = randomForestClassifier.score(valid_features, valid_targets)\n",
    "        print(f\"Accuracy Score for depth={depth}: {score}\")\n",
    "        \n",
    "        if score > best_score_params[\"score\"]:\n",
    "            best_score_params[\"score\"] = score\n",
    "            best_score_params[\"n_estimators\"] = estimators\n",
    "            best_score_params[\"depth\"] = depth\n",
    "        \n",
    "print(f\"Best of the best: {best_score_params}\")\n",
    "\n"
   ]
  },
  {
   "cell_type": "markdown",
   "metadata": {},
   "source": [
    "#### This is tough to read, i am not able to sort all the estimators with depth 5, depth 10, depth 15, depth 20, depth 25 separately. Please suggest how to sort this."
   ]
  },
  {
   "cell_type": "code",
   "execution_count": 13,
   "metadata": {},
   "outputs": [
    {
     "name": "stdout",
     "output_type": "stream",
     "text": [
      "Accuracy Score for estimators 1 : 0.7943615257048093\n",
      "Accuracy Score for estimators 3 : 0.7860696517412935\n",
      "Accuracy Score for estimators 5 : 0.802653399668325\n",
      "Accuracy Score for estimators 7 : 0.8076285240464345\n",
      "Accuracy Score for estimators 9 : 0.8092868988391376\n",
      "Accuracy Score for estimators 11 : 0.8043117744610282\n",
      "Accuracy Score for estimators 13 : 0.8059701492537313\n",
      "Accuracy Score for estimators 15 : 0.8059701492537313\n",
      "Accuracy Score for estimators 17 : 0.8092868988391376\n",
      "Accuracy Score for estimators 19 : 0.8092868988391376\n",
      "Accuracy Score for estimators 21 : 0.8092868988391376\n",
      "Accuracy Score for estimators 23 : 0.8092868988391376\n",
      "Accuracy Score for estimators 25 : 0.8076285240464345\n",
      "Accuracy Score for estimators 27 : 0.8076285240464345\n",
      "Accuracy Score for estimators 29 : 0.8076285240464345\n",
      "Accuracy Score for estimators 31 : 0.8059701492537313\n",
      "Accuracy Score for estimators 33 : 0.8076285240464345\n",
      "Accuracy Score for estimators 35 : 0.8076285240464345\n",
      "Accuracy Score for estimators 37 : 0.8059701492537313\n",
      "Accuracy Score for estimators 39 : 0.8076285240464345\n",
      "Accuracy Score for estimators 41 : 0.8092868988391376\n",
      "Accuracy Score for estimators 43 : 0.8126036484245439\n",
      "Accuracy Score for estimators 45 : 0.814262023217247\n",
      "Accuracy Score for estimators 47 : 0.8109452736318408\n",
      "Accuracy Score for estimators 49 : 0.8126036484245439\n",
      "Accuracy Score for estimators 51 : 0.8175787728026535\n",
      "Accuracy Score for estimators 53 : 0.8126036484245439\n",
      "Accuracy Score for estimators 55 : 0.8126036484245439\n"
     ]
    }
   ],
   "source": [
    "for estimators in range(1,56,2):\n",
    "    randomForestClassifier=RandomForestClassifier(random_state=12345, max_depth=5, n_estimators=estimators)\n",
    "    randomForestClassifier.fit(train_features, train_targets)\n",
    "    print(\"Accuracy Score for estimators\",estimators,\":\",randomForestClassifier.score(valid_features, valid_targets))"
   ]
  },
  {
   "cell_type": "markdown",
   "metadata": {},
   "source": [
    "#### With depth 5 the accuracy score is in range 0.786 - 0.817"
   ]
  },
  {
   "cell_type": "code",
   "execution_count": 14,
   "metadata": {},
   "outputs": [
    {
     "name": "stdout",
     "output_type": "stream",
     "text": [
      "Accuracy Score for estimators 1 : 0.7711442786069652\n",
      "Accuracy Score for estimators 3 : 0.7976782752902156\n",
      "Accuracy Score for estimators 5 : 0.7910447761194029\n",
      "Accuracy Score for estimators 7 : 0.8076285240464345\n",
      "Accuracy Score for estimators 9 : 0.8109452736318408\n",
      "Accuracy Score for estimators 11 : 0.8092868988391376\n",
      "Accuracy Score for estimators 13 : 0.8059701492537313\n",
      "Accuracy Score for estimators 15 : 0.8192371475953566\n",
      "Accuracy Score for estimators 17 : 0.8225538971807629\n",
      "Accuracy Score for estimators 19 : 0.8275290215588723\n",
      "Accuracy Score for estimators 21 : 0.8275290215588723\n",
      "Accuracy Score for estimators 23 : 0.8308457711442786\n",
      "Accuracy Score for estimators 25 : 0.8325041459369817\n",
      "Accuracy Score for estimators 27 : 0.8291873963515755\n",
      "Accuracy Score for estimators 29 : 0.8291873963515755\n",
      "Accuracy Score for estimators 31 : 0.8325041459369817\n",
      "Accuracy Score for estimators 33 : 0.8308457711442786\n",
      "Accuracy Score for estimators 35 : 0.8258706467661692\n",
      "Accuracy Score for estimators 37 : 0.824212271973466\n",
      "Accuracy Score for estimators 39 : 0.8291873963515755\n",
      "Accuracy Score for estimators 41 : 0.8275290215588723\n",
      "Accuracy Score for estimators 43 : 0.8258706467661692\n",
      "Accuracy Score for estimators 45 : 0.8275290215588723\n",
      "Accuracy Score for estimators 47 : 0.8291873963515755\n",
      "Accuracy Score for estimators 49 : 0.8275290215588723\n",
      "Accuracy Score for estimators 51 : 0.8258706467661692\n",
      "Accuracy Score for estimators 53 : 0.824212271973466\n",
      "Accuracy Score for estimators 55 : 0.824212271973466\n"
     ]
    }
   ],
   "source": [
    "for estimators in range(1,56,2):\n",
    "    randomForestClassifier=RandomForestClassifier(random_state=12345, max_depth=10, n_estimators=estimators)\n",
    "    randomForestClassifier.fit(train_features, train_targets)\n",
    "    print(\"Accuracy Score for estimators\",estimators,\":\",randomForestClassifier.score(valid_features, valid_targets))"
   ]
  },
  {
   "cell_type": "markdown",
   "metadata": {},
   "source": [
    "#### With depth 10 the accuracy score is in range 0.771 - 0.832"
   ]
  },
  {
   "cell_type": "code",
   "execution_count": 15,
   "metadata": {},
   "outputs": [
    {
     "name": "stdout",
     "output_type": "stream",
     "text": [
      "Accuracy Score for estimators 1 : 0.7678275290215588\n",
      "Accuracy Score for estimators 3 : 0.802653399668325\n",
      "Accuracy Score for estimators 5 : 0.7910447761194029\n",
      "Accuracy Score for estimators 7 : 0.8009950248756219\n",
      "Accuracy Score for estimators 9 : 0.8059701492537313\n",
      "Accuracy Score for estimators 11 : 0.8076285240464345\n",
      "Accuracy Score for estimators 13 : 0.802653399668325\n",
      "Accuracy Score for estimators 15 : 0.8092868988391376\n",
      "Accuracy Score for estimators 17 : 0.8175787728026535\n",
      "Accuracy Score for estimators 19 : 0.8159203980099502\n",
      "Accuracy Score for estimators 21 : 0.8159203980099502\n",
      "Accuracy Score for estimators 23 : 0.8208955223880597\n",
      "Accuracy Score for estimators 25 : 0.8192371475953566\n",
      "Accuracy Score for estimators 27 : 0.8175787728026535\n",
      "Accuracy Score for estimators 29 : 0.8159203980099502\n",
      "Accuracy Score for estimators 31 : 0.814262023217247\n",
      "Accuracy Score for estimators 33 : 0.814262023217247\n",
      "Accuracy Score for estimators 35 : 0.8175787728026535\n",
      "Accuracy Score for estimators 37 : 0.8258706467661692\n",
      "Accuracy Score for estimators 39 : 0.824212271973466\n",
      "Accuracy Score for estimators 41 : 0.824212271973466\n",
      "Accuracy Score for estimators 43 : 0.8225538971807629\n",
      "Accuracy Score for estimators 45 : 0.824212271973466\n",
      "Accuracy Score for estimators 47 : 0.8225538971807629\n",
      "Accuracy Score for estimators 49 : 0.8258706467661692\n",
      "Accuracy Score for estimators 51 : 0.824212271973466\n",
      "Accuracy Score for estimators 53 : 0.8258706467661692\n",
      "Accuracy Score for estimators 55 : 0.8275290215588723\n"
     ]
    }
   ],
   "source": [
    "for estimators in range(1,56,2):\n",
    "    randomForestClassifier=RandomForestClassifier(random_state=12345, max_depth=15, n_estimators=estimators)\n",
    "    randomForestClassifier.fit(train_features, train_targets)\n",
    "    print(\"Accuracy Score for estimators\",estimators,\":\",randomForestClassifier.score(valid_features, valid_targets))"
   ]
  },
  {
   "cell_type": "markdown",
   "metadata": {},
   "source": [
    "#### With depth 15 the accuracy score is in range 0.767 - 0.827"
   ]
  },
  {
   "cell_type": "code",
   "execution_count": 16,
   "metadata": {},
   "outputs": [
    {
     "name": "stdout",
     "output_type": "stream",
     "text": [
      "Accuracy Score for estimators 1 : 0.736318407960199\n",
      "Accuracy Score for estimators 3 : 0.75787728026534\n",
      "Accuracy Score for estimators 5 : 0.7711442786069652\n",
      "Accuracy Score for estimators 7 : 0.7860696517412935\n",
      "Accuracy Score for estimators 9 : 0.7860696517412935\n",
      "Accuracy Score for estimators 11 : 0.7976782752902156\n",
      "Accuracy Score for estimators 13 : 0.8109452736318408\n",
      "Accuracy Score for estimators 15 : 0.8092868988391376\n",
      "Accuracy Score for estimators 17 : 0.8159203980099502\n",
      "Accuracy Score for estimators 19 : 0.8126036484245439\n",
      "Accuracy Score for estimators 21 : 0.8159203980099502\n",
      "Accuracy Score for estimators 23 : 0.814262023217247\n",
      "Accuracy Score for estimators 25 : 0.8192371475953566\n",
      "Accuracy Score for estimators 27 : 0.814262023217247\n",
      "Accuracy Score for estimators 29 : 0.814262023217247\n",
      "Accuracy Score for estimators 31 : 0.8175787728026535\n",
      "Accuracy Score for estimators 33 : 0.8208955223880597\n",
      "Accuracy Score for estimators 35 : 0.8225538971807629\n",
      "Accuracy Score for estimators 37 : 0.8208955223880597\n",
      "Accuracy Score for estimators 39 : 0.8159203980099502\n",
      "Accuracy Score for estimators 41 : 0.8159203980099502\n",
      "Accuracy Score for estimators 43 : 0.8175787728026535\n",
      "Accuracy Score for estimators 45 : 0.8175787728026535\n",
      "Accuracy Score for estimators 47 : 0.8159203980099502\n",
      "Accuracy Score for estimators 49 : 0.8192371475953566\n",
      "Accuracy Score for estimators 51 : 0.8208955223880597\n",
      "Accuracy Score for estimators 53 : 0.8175787728026535\n",
      "Accuracy Score for estimators 55 : 0.8175787728026535\n"
     ]
    }
   ],
   "source": [
    "for estimators in range(1,56,2):\n",
    "    randomForestClassifier=RandomForestClassifier(random_state=12345, max_depth=20, n_estimators=estimators)\n",
    "    randomForestClassifier.fit(train_features, train_targets)\n",
    "    print(\"Accuracy Score for estimators\",estimators,\":\",randomForestClassifier.score(valid_features, valid_targets))"
   ]
  },
  {
   "cell_type": "markdown",
   "metadata": {},
   "source": [
    "#### With depth 20 the accuracy score is in range 0.736 - 0.822"
   ]
  },
  {
   "cell_type": "markdown",
   "metadata": {},
   "source": [
    "## <font color=\"green\"><b>Logisitic Regression</b></font>"
   ]
  },
  {
   "cell_type": "code",
   "execution_count": 17,
   "metadata": {},
   "outputs": [
    {
     "name": "stdout",
     "output_type": "stream",
     "text": [
      "Accuracy Score is 0.7330016583747927\n"
     ]
    },
    {
     "name": "stderr",
     "output_type": "stream",
     "text": [
      "/opt/conda/lib/python3.7/site-packages/sklearn/linear_model/logistic.py:432: FutureWarning: Default solver will be changed to 'lbfgs' in 0.22. Specify a solver to silence this warning.\n",
      "  FutureWarning)\n"
     ]
    }
   ],
   "source": [
    "logisticRegression=LogisticRegression()\n",
    "logisticRegression.fit(train_features, train_targets)\n",
    "print(\"Accuracy Score is\",logisticRegression.score(valid_features, valid_targets))"
   ]
  },
  {
   "cell_type": "markdown",
   "metadata": {},
   "source": [
    "#### Accuracy score of Logistic Regression is 0.73"
   ]
  },
  {
   "cell_type": "markdown",
   "metadata": {},
   "source": [
    "#### The highest accuracy among all the models is Random Forest at depth 10 with estimators 31 is 83.2. So i am choosing this as the best model."
   ]
  },
  {
   "cell_type": "code",
   "execution_count": 18,
   "metadata": {},
   "outputs": [
    {
     "data": {
      "text/plain": [
       "RandomForestClassifier(bootstrap=True, class_weight=None, criterion='gini',\n",
       "                       max_depth=10, max_features='auto', max_leaf_nodes=None,\n",
       "                       min_impurity_decrease=0.0, min_impurity_split=None,\n",
       "                       min_samples_leaf=1, min_samples_split=2,\n",
       "                       min_weight_fraction_leaf=0.0, n_estimators=31,\n",
       "                       n_jobs=None, oob_score=False, random_state=12345,\n",
       "                       verbose=0, warm_start=False)"
      ]
     },
     "execution_count": 18,
     "metadata": {},
     "output_type": "execute_result"
    }
   ],
   "source": [
    "best_model=RandomForestClassifier(random_state=12345, max_depth=10, n_estimators=31)\n",
    "best_model.fit(split_features, split_targets)"
   ]
  },
  {
   "cell_type": "markdown",
   "metadata": {},
   "source": [
    "## <font color=\"green\"><b>4.Check the quality of the model using the test set.</b></font>"
   ]
  },
  {
   "cell_type": "code",
   "execution_count": 19,
   "metadata": {},
   "outputs": [
    {
     "name": "stdout",
     "output_type": "stream",
     "text": [
      "Test set Accuracy for best model is 0.8034825870646766\n"
     ]
    }
   ],
   "source": [
    "print(\"Test set Accuracy for best model is\", best_model.score(test_features, test_targets))"
   ]
  },
  {
   "cell_type": "markdown",
   "metadata": {},
   "source": [
    "## <font color=\"green\"><b>5. Additional task: sanity check the model</b></font>"
   ]
  },
  {
   "cell_type": "code",
   "execution_count": 20,
   "metadata": {},
   "outputs": [
    {
     "name": "stdout",
     "output_type": "stream",
     "text": [
      "Base Accuracy if all predictions are 0 is 0.7002487562189055\n"
     ]
    }
   ],
   "source": [
    "predictions=pd.Series(0, index=test_targets.index)\n",
    "print(\"Base Accuracy if all predictions are 0 is\", accuracy_score(test_targets, predictions))"
   ]
  },
  {
   "cell_type": "code",
   "execution_count": 21,
   "metadata": {},
   "outputs": [
    {
     "name": "stdout",
     "output_type": "stream",
     "text": [
      "Base Accuracy if all predictions are 0 is 0.2997512437810945\n"
     ]
    }
   ],
   "source": [
    "predictions=pd.Series(1, index=test_targets.index)\n",
    "print(\"Base Accuracy if all predictions are 0 is\", accuracy_score(test_targets, predictions))"
   ]
  },
  {
   "cell_type": "markdown",
   "metadata": {},
   "source": [
    "<div class=\"alert alert-block alert-info\">\n",
    "<b>Improve: </b> There is a typo here (0 instead of 1).\n",
    "</div>"
   ]
  },
  {
   "cell_type": "markdown",
   "metadata": {},
   "source": [
    "#### Since this is Classification Problem, We will check the Accuracy score when All the predicted values, either be 0 or 1"
   ]
  },
  {
   "cell_type": "markdown",
   "metadata": {},
   "source": [
    "While sanity, We consider accuracy of biggest class as base accuracy value.\n",
    "\n",
    "Since 0 is the biggest class here, We need to consider 70% as a base accuracy value. Our trained model should have atleast higher value than base value."
   ]
  },
  {
   "cell_type": "markdown",
   "metadata": {},
   "source": [
    "## <font color=\"green\"><b>Conclusion</b></font>"
   ]
  },
  {
   "cell_type": "markdown",
   "metadata": {},
   "source": [
    "#### RandomForestClassifier with max_depth=10 and n_estimators=31 gave 83.2% test Accuracy, it gives better test accuracy than base accuracy."
   ]
  },
  {
   "cell_type": "code",
   "execution_count": null,
   "metadata": {},
   "outputs": [],
   "source": []
  }
 ],
 "metadata": {
  "kernelspec": {
   "display_name": "Python 3 (ipykernel)",
   "language": "python",
   "name": "python3"
  },
  "language_info": {
   "codemirror_mode": {
    "name": "ipython",
    "version": 3
   },
   "file_extension": ".py",
   "mimetype": "text/x-python",
   "name": "python",
   "nbconvert_exporter": "python",
   "pygments_lexer": "ipython3",
   "version": "3.9.5"
  },
  "toc": {
   "base_numbering": 1,
   "nav_menu": {},
   "number_sections": true,
   "sideBar": true,
   "skip_h1_title": true,
   "title_cell": "Table of Contents",
   "title_sidebar": "Contents",
   "toc_cell": false,
   "toc_position": {},
   "toc_section_display": true,
   "toc_window_display": false
  }
 },
 "nbformat": 4,
 "nbformat_minor": 2
}
